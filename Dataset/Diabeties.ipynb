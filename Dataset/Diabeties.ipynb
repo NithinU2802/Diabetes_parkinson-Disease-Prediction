{
 "cells": [
  {
   "cell_type": "code",
   "execution_count": 57,
   "metadata": {},
   "outputs": [],
   "source": [
    "import numpy as np\n",
    "import pandas as pd\n",
    "from sklearn.model_selection import train_test_split\n",
    "from sklearn import svm\n",
    "from sklearn.ensemble import RandomForestClassifier\n",
    "from sklearn.neighbors import KNeighborsClassifier\n",
    "from sklearn.metrics import accuracy_score\n",
    "\n",
    "from sklearn.metrics import confusion_matrix\n",
    "import seaborn as sns\n",
    "import matplotlib.pyplot as plt"
   ]
  },
  {
   "cell_type": "code",
   "execution_count": 58,
   "metadata": {},
   "outputs": [],
   "source": [
    "# Get CSV File elements\n",
    "data = pd.read_csv('CSV_Files/diabetes.csv') "
   ]
  },
  {
   "cell_type": "code",
   "execution_count": 59,
   "metadata": {},
   "outputs": [
    {
     "name": "stdout",
     "output_type": "stream",
     "text": [
      "Pregnancies\n",
      "Glucose\n",
      "BloodPressure\n",
      "SkinThickness\n",
      "Insulin\n",
      "BMI\n",
      "DiabetesPedigreeFunction\n",
      "Age\n",
      "Outcome\n"
     ]
    }
   ],
   "source": [
    "# To find the value of Columns \n",
    "for i in data.columns:\n",
    "    print(i)"
   ]
  },
  {
   "cell_type": "code",
   "execution_count": 60,
   "metadata": {},
   "outputs": [
    {
     "data": {
      "text/html": [
       "<div>\n",
       "<style scoped>\n",
       "    .dataframe tbody tr th:only-of-type {\n",
       "        vertical-align: middle;\n",
       "    }\n",
       "\n",
       "    .dataframe tbody tr th {\n",
       "        vertical-align: top;\n",
       "    }\n",
       "\n",
       "    .dataframe thead th {\n",
       "        text-align: right;\n",
       "    }\n",
       "</style>\n",
       "<table border=\"1\" class=\"dataframe\">\n",
       "  <thead>\n",
       "    <tr style=\"text-align: right;\">\n",
       "      <th></th>\n",
       "      <th>Pregnancies</th>\n",
       "      <th>Glucose</th>\n",
       "      <th>BloodPressure</th>\n",
       "      <th>SkinThickness</th>\n",
       "      <th>Insulin</th>\n",
       "      <th>BMI</th>\n",
       "      <th>DiabetesPedigreeFunction</th>\n",
       "      <th>Age</th>\n",
       "      <th>Outcome</th>\n",
       "    </tr>\n",
       "  </thead>\n",
       "  <tbody>\n",
       "    <tr>\n",
       "      <th>0</th>\n",
       "      <td>6</td>\n",
       "      <td>148</td>\n",
       "      <td>72</td>\n",
       "      <td>35</td>\n",
       "      <td>0</td>\n",
       "      <td>33.6</td>\n",
       "      <td>0.627</td>\n",
       "      <td>50</td>\n",
       "      <td>1</td>\n",
       "    </tr>\n",
       "    <tr>\n",
       "      <th>1</th>\n",
       "      <td>1</td>\n",
       "      <td>85</td>\n",
       "      <td>66</td>\n",
       "      <td>29</td>\n",
       "      <td>0</td>\n",
       "      <td>26.6</td>\n",
       "      <td>0.351</td>\n",
       "      <td>31</td>\n",
       "      <td>0</td>\n",
       "    </tr>\n",
       "    <tr>\n",
       "      <th>2</th>\n",
       "      <td>8</td>\n",
       "      <td>183</td>\n",
       "      <td>64</td>\n",
       "      <td>0</td>\n",
       "      <td>0</td>\n",
       "      <td>23.3</td>\n",
       "      <td>0.672</td>\n",
       "      <td>32</td>\n",
       "      <td>1</td>\n",
       "    </tr>\n",
       "    <tr>\n",
       "      <th>3</th>\n",
       "      <td>1</td>\n",
       "      <td>89</td>\n",
       "      <td>66</td>\n",
       "      <td>23</td>\n",
       "      <td>94</td>\n",
       "      <td>28.1</td>\n",
       "      <td>0.167</td>\n",
       "      <td>21</td>\n",
       "      <td>0</td>\n",
       "    </tr>\n",
       "    <tr>\n",
       "      <th>4</th>\n",
       "      <td>0</td>\n",
       "      <td>137</td>\n",
       "      <td>40</td>\n",
       "      <td>35</td>\n",
       "      <td>168</td>\n",
       "      <td>43.1</td>\n",
       "      <td>2.288</td>\n",
       "      <td>33</td>\n",
       "      <td>1</td>\n",
       "    </tr>\n",
       "  </tbody>\n",
       "</table>\n",
       "</div>"
      ],
      "text/plain": [
       "   Pregnancies  Glucose  BloodPressure  SkinThickness  Insulin   BMI  \\\n",
       "0            6      148             72             35        0  33.6   \n",
       "1            1       85             66             29        0  26.6   \n",
       "2            8      183             64              0        0  23.3   \n",
       "3            1       89             66             23       94  28.1   \n",
       "4            0      137             40             35      168  43.1   \n",
       "\n",
       "   DiabetesPedigreeFunction  Age  Outcome  \n",
       "0                     0.627   50        1  \n",
       "1                     0.351   31        0  \n",
       "2                     0.672   32        1  \n",
       "3                     0.167   21        0  \n",
       "4                     2.288   33        1  "
      ]
     },
     "execution_count": 60,
     "metadata": {},
     "output_type": "execute_result"
    }
   ],
   "source": [
    "# Head of Diabetes.csv\n",
    "data.head()"
   ]
  },
  {
   "cell_type": "code",
   "execution_count": 61,
   "metadata": {},
   "outputs": [
    {
     "data": {
      "text/plain": [
       "(768, 9)"
      ]
     },
     "execution_count": 61,
     "metadata": {},
     "output_type": "execute_result"
    }
   ],
   "source": [
    "# To Show Number of rows and Columns\n",
    "data.shape"
   ]
  },
  {
   "cell_type": "code",
   "execution_count": 62,
   "metadata": {},
   "outputs": [
    {
     "data": {
      "text/plain": [
       "<bound method NDFrame.describe of      Pregnancies  Glucose  BloodPressure  SkinThickness  Insulin   BMI  \\\n",
       "0              6      148             72             35        0  33.6   \n",
       "1              1       85             66             29        0  26.6   \n",
       "2              8      183             64              0        0  23.3   \n",
       "3              1       89             66             23       94  28.1   \n",
       "4              0      137             40             35      168  43.1   \n",
       "..           ...      ...            ...            ...      ...   ...   \n",
       "763           10      101             76             48      180  32.9   \n",
       "764            2      122             70             27        0  36.8   \n",
       "765            5      121             72             23      112  26.2   \n",
       "766            1      126             60              0        0  30.1   \n",
       "767            1       93             70             31        0  30.4   \n",
       "\n",
       "     DiabetesPedigreeFunction  Age  Outcome  \n",
       "0                       0.627   50        1  \n",
       "1                       0.351   31        0  \n",
       "2                       0.672   32        1  \n",
       "3                       0.167   21        0  \n",
       "4                       2.288   33        1  \n",
       "..                        ...  ...      ...  \n",
       "763                     0.171   63        0  \n",
       "764                     0.340   27        0  \n",
       "765                     0.245   30        0  \n",
       "766                     0.349   47        1  \n",
       "767                     0.315   23        0  \n",
       "\n",
       "[768 rows x 9 columns]>"
      ]
     },
     "execution_count": 62,
     "metadata": {},
     "output_type": "execute_result"
    }
   ],
   "source": [
    "# To get Statistical Data of the file\n",
    "data.describe"
   ]
  },
  {
   "cell_type": "code",
   "execution_count": 63,
   "metadata": {},
   "outputs": [
    {
     "data": {
      "text/plain": [
       "Outcome\n",
       "0    500\n",
       "1    268\n",
       "Name: count, dtype: int64"
      ]
     },
     "execution_count": 63,
     "metadata": {},
     "output_type": "execute_result"
    }
   ],
   "source": [
    "# To get Output details with count\n",
    "data['Outcome'].value_counts()"
   ]
  },
  {
   "cell_type": "code",
   "execution_count": 64,
   "metadata": {},
   "outputs": [
    {
     "name": "stdout",
     "output_type": "stream",
     "text": [
      "0.3489583333333333\n",
      "69.10546875\n"
     ]
    }
   ],
   "source": [
    "# Here 0 Describe No-Diabetic and 1 Describe Diabetic\n",
    "print(data['Outcome'].mean()) # Provide mean of Outcome column\n",
    "print(data['BloodPressure'].mean() )# Provide mean of BloodPressure column"
   ]
  },
  {
   "cell_type": "code",
   "execution_count": 65,
   "metadata": {},
   "outputs": [
    {
     "data": {
      "text/html": [
       "<div>\n",
       "<style scoped>\n",
       "    .dataframe tbody tr th:only-of-type {\n",
       "        vertical-align: middle;\n",
       "    }\n",
       "\n",
       "    .dataframe tbody tr th {\n",
       "        vertical-align: top;\n",
       "    }\n",
       "\n",
       "    .dataframe thead th {\n",
       "        text-align: right;\n",
       "    }\n",
       "</style>\n",
       "<table border=\"1\" class=\"dataframe\">\n",
       "  <thead>\n",
       "    <tr style=\"text-align: right;\">\n",
       "      <th></th>\n",
       "      <th>Pregnancies</th>\n",
       "      <th>Glucose</th>\n",
       "      <th>BloodPressure</th>\n",
       "      <th>SkinThickness</th>\n",
       "      <th>Insulin</th>\n",
       "      <th>BMI</th>\n",
       "      <th>DiabetesPedigreeFunction</th>\n",
       "      <th>Age</th>\n",
       "    </tr>\n",
       "    <tr>\n",
       "      <th>Outcome</th>\n",
       "      <th></th>\n",
       "      <th></th>\n",
       "      <th></th>\n",
       "      <th></th>\n",
       "      <th></th>\n",
       "      <th></th>\n",
       "      <th></th>\n",
       "      <th></th>\n",
       "    </tr>\n",
       "  </thead>\n",
       "  <tbody>\n",
       "    <tr>\n",
       "      <th>0</th>\n",
       "      <td>3.298000</td>\n",
       "      <td>109.980000</td>\n",
       "      <td>68.184000</td>\n",
       "      <td>19.664000</td>\n",
       "      <td>68.792000</td>\n",
       "      <td>30.304200</td>\n",
       "      <td>0.429734</td>\n",
       "      <td>31.190000</td>\n",
       "    </tr>\n",
       "    <tr>\n",
       "      <th>1</th>\n",
       "      <td>4.865672</td>\n",
       "      <td>141.257463</td>\n",
       "      <td>70.824627</td>\n",
       "      <td>22.164179</td>\n",
       "      <td>100.335821</td>\n",
       "      <td>35.142537</td>\n",
       "      <td>0.550500</td>\n",
       "      <td>37.067164</td>\n",
       "    </tr>\n",
       "  </tbody>\n",
       "</table>\n",
       "</div>"
      ],
      "text/plain": [
       "         Pregnancies     Glucose  BloodPressure  SkinThickness     Insulin  \\\n",
       "Outcome                                                                      \n",
       "0           3.298000  109.980000      68.184000      19.664000   68.792000   \n",
       "1           4.865672  141.257463      70.824627      22.164179  100.335821   \n",
       "\n",
       "               BMI  DiabetesPedigreeFunction        Age  \n",
       "Outcome                                                  \n",
       "0        30.304200                  0.429734  31.190000  \n",
       "1        35.142537                  0.550500  37.067164  "
      ]
     },
     "execution_count": 65,
     "metadata": {},
     "output_type": "execute_result"
    }
   ],
   "source": [
    "# Mean of every value split by outcome\n",
    "data.groupby('Outcome').mean()"
   ]
  },
  {
   "cell_type": "code",
   "execution_count": 66,
   "metadata": {},
   "outputs": [],
   "source": [
    "# Splitting over data and label X and Y Where Y is Outcome and X is other than Outcome\n",
    "X=data.drop(columns='Outcome',axis=1)\n",
    "Y=data['Outcome']"
   ]
  },
  {
   "cell_type": "code",
   "execution_count": 67,
   "metadata": {},
   "outputs": [
    {
     "data": {
      "text/html": [
       "<div>\n",
       "<style scoped>\n",
       "    .dataframe tbody tr th:only-of-type {\n",
       "        vertical-align: middle;\n",
       "    }\n",
       "\n",
       "    .dataframe tbody tr th {\n",
       "        vertical-align: top;\n",
       "    }\n",
       "\n",
       "    .dataframe thead th {\n",
       "        text-align: right;\n",
       "    }\n",
       "</style>\n",
       "<table border=\"1\" class=\"dataframe\">\n",
       "  <thead>\n",
       "    <tr style=\"text-align: right;\">\n",
       "      <th></th>\n",
       "      <th>Pregnancies</th>\n",
       "      <th>Glucose</th>\n",
       "      <th>BloodPressure</th>\n",
       "      <th>SkinThickness</th>\n",
       "      <th>Insulin</th>\n",
       "      <th>BMI</th>\n",
       "      <th>DiabetesPedigreeFunction</th>\n",
       "      <th>Age</th>\n",
       "    </tr>\n",
       "  </thead>\n",
       "  <tbody>\n",
       "    <tr>\n",
       "      <th>0</th>\n",
       "      <td>6</td>\n",
       "      <td>148</td>\n",
       "      <td>72</td>\n",
       "      <td>35</td>\n",
       "      <td>0</td>\n",
       "      <td>33.6</td>\n",
       "      <td>0.627</td>\n",
       "      <td>50</td>\n",
       "    </tr>\n",
       "    <tr>\n",
       "      <th>1</th>\n",
       "      <td>1</td>\n",
       "      <td>85</td>\n",
       "      <td>66</td>\n",
       "      <td>29</td>\n",
       "      <td>0</td>\n",
       "      <td>26.6</td>\n",
       "      <td>0.351</td>\n",
       "      <td>31</td>\n",
       "    </tr>\n",
       "    <tr>\n",
       "      <th>2</th>\n",
       "      <td>8</td>\n",
       "      <td>183</td>\n",
       "      <td>64</td>\n",
       "      <td>0</td>\n",
       "      <td>0</td>\n",
       "      <td>23.3</td>\n",
       "      <td>0.672</td>\n",
       "      <td>32</td>\n",
       "    </tr>\n",
       "    <tr>\n",
       "      <th>3</th>\n",
       "      <td>1</td>\n",
       "      <td>89</td>\n",
       "      <td>66</td>\n",
       "      <td>23</td>\n",
       "      <td>94</td>\n",
       "      <td>28.1</td>\n",
       "      <td>0.167</td>\n",
       "      <td>21</td>\n",
       "    </tr>\n",
       "    <tr>\n",
       "      <th>4</th>\n",
       "      <td>0</td>\n",
       "      <td>137</td>\n",
       "      <td>40</td>\n",
       "      <td>35</td>\n",
       "      <td>168</td>\n",
       "      <td>43.1</td>\n",
       "      <td>2.288</td>\n",
       "      <td>33</td>\n",
       "    </tr>\n",
       "  </tbody>\n",
       "</table>\n",
       "</div>"
      ],
      "text/plain": [
       "   Pregnancies  Glucose  BloodPressure  SkinThickness  Insulin   BMI  \\\n",
       "0            6      148             72             35        0  33.6   \n",
       "1            1       85             66             29        0  26.6   \n",
       "2            8      183             64              0        0  23.3   \n",
       "3            1       89             66             23       94  28.1   \n",
       "4            0      137             40             35      168  43.1   \n",
       "\n",
       "   DiabetesPedigreeFunction  Age  \n",
       "0                     0.627   50  \n",
       "1                     0.351   31  \n",
       "2                     0.672   32  \n",
       "3                     0.167   21  \n",
       "4                     2.288   33  "
      ]
     },
     "execution_count": 67,
     "metadata": {},
     "output_type": "execute_result"
    }
   ],
   "source": [
    "# To Track the value of X which holds other than Outcome\n",
    "X.head()"
   ]
  },
  {
   "cell_type": "code",
   "execution_count": 68,
   "metadata": {},
   "outputs": [
    {
     "data": {
      "text/plain": [
       "0    1\n",
       "1    0\n",
       "2    1\n",
       "3    0\n",
       "4    1\n",
       "Name: Outcome, dtype: int64"
      ]
     },
     "execution_count": 68,
     "metadata": {},
     "output_type": "execute_result"
    }
   ],
   "source": [
    "# To Track the value of Y which holds only Outcome\n",
    "Y.head()"
   ]
  },
  {
   "cell_type": "code",
   "execution_count": 69,
   "metadata": {},
   "outputs": [
    {
     "name": "stdout",
     "output_type": "stream",
     "text": [
      "[     Pregnancies  Glucose  BloodPressure  SkinThickness  Insulin   BMI  \\\n",
      "619            0      119              0              0        0  32.4   \n",
      "329            6      105             70             32       68  30.8   \n",
      "13             1      189             60             23      846  30.1   \n",
      "476            2      105             80             45      191  33.7   \n",
      "45             0      180             66             39        0  42.0   \n",
      "..           ...      ...            ...            ...      ...   ...   \n",
      "303            5      115             98              0        0  52.9   \n",
      "592            3      132             80              0        0  34.4   \n",
      "559           11       85             74              0        0  30.1   \n",
      "725            4      112             78             40        0  39.4   \n",
      "253            0       86             68             32        0  35.8   \n",
      "\n",
      "     DiabetesPedigreeFunction  Age  \n",
      "619                     0.141   24  \n",
      "329                     0.122   37  \n",
      "13                      0.398   59  \n",
      "476                     0.711   29  \n",
      "45                      1.893   25  \n",
      "..                        ...  ...  \n",
      "303                     0.209   28  \n",
      "592                     0.402   44  \n",
      "559                     0.300   35  \n",
      "725                     0.236   38  \n",
      "253                     0.238   25  \n",
      "\n",
      "[614 rows x 8 columns],      Pregnancies  Glucose  BloodPressure  SkinThickness  Insulin   BMI  \\\n",
      "615            3      106             72              0        0  25.8   \n",
      "80             3      113             44             13        0  22.4   \n",
      "148            5      147             78              0        0  33.7   \n",
      "132            3      170             64             37      225  34.5   \n",
      "501            3       84             72             32        0  37.2   \n",
      "..           ...      ...            ...            ...      ...   ...   \n",
      "127            1      118             58             36       94  33.3   \n",
      "185            7      194             68             28        0  35.9   \n",
      "85             2      110             74             29      125  32.4   \n",
      "497            2       81             72             15       76  30.1   \n",
      "86            13      106             72             54        0  36.6   \n",
      "\n",
      "     DiabetesPedigreeFunction  Age  \n",
      "615                     0.207   27  \n",
      "80                      0.140   22  \n",
      "148                     0.218   65  \n",
      "132                     0.356   30  \n",
      "501                     0.267   28  \n",
      "..                        ...  ...  \n",
      "127                     0.261   23  \n",
      "185                     0.745   41  \n",
      "85                      0.698   27  \n",
      "497                     0.547   25  \n",
      "86                      0.178   45  \n",
      "\n",
      "[154 rows x 8 columns], 619    1\n",
      "329    0\n",
      "13     1\n",
      "476    1\n",
      "45     1\n",
      "      ..\n",
      "303    1\n",
      "592    1\n",
      "559    0\n",
      "725    0\n",
      "253    0\n",
      "Name: Outcome, Length: 614, dtype: int64, 615    0\n",
      "80     0\n",
      "148    0\n",
      "132    1\n",
      "501    0\n",
      "      ..\n",
      "127    0\n",
      "185    1\n",
      "85     0\n",
      "497    0\n",
      "86     0\n",
      "Name: Outcome, Length: 154, dtype: int64]\n"
     ]
    }
   ],
   "source": [
    "# Train Dataset with labels X and Y with test_size as 0.4\n",
    "train = train_test_split(X,Y, test_size = 0.2, stratify=Y, random_state=2)\n",
    "train_X=train[0]\n",
    "test_X=train[1]\n",
    "train_Y=train[2]\n",
    "test_Y=train[3]\n",
    "print(train)"
   ]
  },
  {
   "cell_type": "code",
   "execution_count": 70,
   "metadata": {},
   "outputs": [
    {
     "name": "stdout",
     "output_type": "stream",
     "text": [
      "(768, 8)\n",
      "(614, 8)\n",
      "(154, 8)\n",
      "(614,)\n",
      "(154,)\n"
     ]
    }
   ],
   "source": [
    "print(X.shape)\n",
    "\n",
    "# For the label X\n",
    "print(train[0].shape)\n",
    "print(train[1].shape)\n",
    "\n",
    "# For the label Y\n",
    "print(train[2].shape)\n",
    "print(train[3].shape)"
   ]
  },
  {
   "cell_type": "code",
   "execution_count": 71,
   "metadata": {},
   "outputs": [
    {
     "name": "stdout",
     "output_type": "stream",
     "text": [
      "     Pregnancies  Glucose  BloodPressure  SkinThickness  Insulin   BMI  \\\n",
      "619            0      119              0              0        0  32.4   \n",
      "329            6      105             70             32       68  30.8   \n",
      "13             1      189             60             23      846  30.1   \n",
      "476            2      105             80             45      191  33.7   \n",
      "45             0      180             66             39        0  42.0   \n",
      "\n",
      "     DiabetesPedigreeFunction  Age  \n",
      "619                     0.141   24  \n",
      "329                     0.122   37  \n",
      "13                      0.398   59  \n",
      "476                     0.711   29  \n",
      "45                      1.893   25  \n"
     ]
    }
   ],
   "source": [
    "# check the splitted train and test data\n",
    "print(train_X.head())"
   ]
  },
  {
   "cell_type": "code",
   "execution_count": 72,
   "metadata": {},
   "outputs": [
    {
     "name": "stdout",
     "output_type": "stream",
     "text": [
      "     Pregnancies  Glucose  BloodPressure  SkinThickness  Insulin   BMI  \\\n",
      "615            3      106             72              0        0  25.8   \n",
      "80             3      113             44             13        0  22.4   \n",
      "148            5      147             78              0        0  33.7   \n",
      "132            3      170             64             37      225  34.5   \n",
      "501            3       84             72             32        0  37.2   \n",
      "\n",
      "     DiabetesPedigreeFunction  Age  \n",
      "615                     0.207   27  \n",
      "80                      0.140   22  \n",
      "148                     0.218   65  \n",
      "132                     0.356   30  \n",
      "501                     0.267   28  \n"
     ]
    }
   ],
   "source": [
    "print(test_X.head())"
   ]
  },
  {
   "cell_type": "code",
   "execution_count": 73,
   "metadata": {},
   "outputs": [
    {
     "name": "stdout",
     "output_type": "stream",
     "text": [
      "619    1\n",
      "329    0\n",
      "13     1\n",
      "476    1\n",
      "45     1\n",
      "Name: Outcome, dtype: int64\n"
     ]
    }
   ],
   "source": [
    "print(train_Y.head())"
   ]
  },
  {
   "cell_type": "code",
   "execution_count": 74,
   "metadata": {},
   "outputs": [
    {
     "name": "stdout",
     "output_type": "stream",
     "text": [
      "615    0\n",
      "80     0\n",
      "148    0\n",
      "132    1\n",
      "501    0\n",
      "Name: Outcome, dtype: int64\n"
     ]
    }
   ],
   "source": [
    "print(test_Y.head())"
   ]
  },
  {
   "cell_type": "code",
   "execution_count": 75,
   "metadata": {},
   "outputs": [
    {
     "name": "stdout",
     "output_type": "stream",
     "text": [
      "Random Forest - Accuracy score on the training data:  1.0\n",
      "Random Forest - Accuracy score on the test data:  0.7207792207792207\n"
     ]
    }
   ],
   "source": [
    "# Train Random Forest Model\n",
    "rf_classifier = RandomForestClassifier(n_estimators=100, random_state=2)\n",
    "rf_classifier.fit(train_X, train_Y)\n",
    "\n",
    "# Accuracy score on the training data\n",
    "rf_train_prediction = rf_classifier.predict(train_X)\n",
    "rf_training_data_accuracy = accuracy_score(rf_train_prediction, train_Y)\n",
    "print('Random Forest - Accuracy score on the training data: ', rf_training_data_accuracy)\n",
    "\n",
    "# Accuracy score on the test data\n",
    "rf_test_prediction = rf_classifier.predict(test_X)\n",
    "rf_test_data_accuracy = accuracy_score(rf_test_prediction, test_Y)\n",
    "print('Random Forest - Accuracy score on the test data: ', rf_test_data_accuracy)"
   ]
  },
  {
   "cell_type": "code",
   "execution_count": 76,
   "metadata": {},
   "outputs": [
    {
     "data": {
      "image/png": "[encoded data removed]",
      "text/plain": [
       "<Figure size 800x500 with 1 Axes>"
      ]
     },
     "metadata": {},
     "output_type": "display_data"
    }
   ],
   "source": [
    "# Data for plotting\n",
    "accuracy_data = {\n",
    "    'Training Accuracy': rf_training_data_accuracy,\n",
    "    'Test Accuracy': rf_test_data_accuracy\n",
    "}\n",
    "\n",
    "# Plotting the bar graph\n",
    "plt.figure(figsize=(8, 5))\n",
    "plt.bar(accuracy_data.keys(), accuracy_data.values(), color=['blue', 'green'])\n",
    "plt.ylabel('Accuracy')\n",
    "plt.title('Training and Test Accuracy of the SVM Model')\n",
    "plt.ylim(0, 5)  # Set y-axis limit to range [0, 5]\n",
    "\n",
    "# Display the bar values on top of the bars\n",
    "for key, value in accuracy_data.items():\n",
    "    plt.text(key, value + 0.02, f'{value:.2f}', ha='center')\n",
    "\n",
    "plt.show()"
   ]
  },
  {
   "cell_type": "code",
   "execution_count": 77,
   "metadata": {},
   "outputs": [
    {
     "name": "stdout",
     "output_type": "stream",
     "text": [
      "Accuracy score of the training data :  0.7833876221498371\n",
      "Accuracy score of the test data :  0.7727272727272727\n"
     ]
    }
   ],
   "source": [
    "classifier = svm.SVC(kernel='linear')\n",
    "#training the support vector Machine Classifier\n",
    "classifier.fit(train_X, train_Y)\n",
    "# accuracy score on the training data\n",
    "X_train_prediction = classifier.predict(train_X)\n",
    "training_data_accuracy = accuracy_score(X_train_prediction, train_Y)\n",
    "print('Accuracy score of the training data : ', training_data_accuracy)\n",
    "# accuracy score on the test data\n",
    "X_test_prediction = classifier.predict(test_X)\n",
    "test_data_accuracy = accuracy_score(X_test_prediction, test_Y)\n",
    "print('Accuracy score of the test data : ', test_data_accuracy)"
   ]
  },
  {
   "cell_type": "code",
   "execution_count": 78,
   "metadata": {},
   "outputs": [
    {
     "data": {
      "image/png": "[encoded data removed]",
      "text/plain": [
       "<Figure size 800x500 with 1 Axes>"
      ]
     },
     "metadata": {},
     "output_type": "display_data"
    }
   ],
   "source": [
    "# Data for plotting\n",
    "accuracy_data = {\n",
    "    'Training Accuracy': training_data_accuracy,\n",
    "    'Test Accuracy': test_data_accuracy\n",
    "}\n",
    "\n",
    "# Plotting the bar graph\n",
    "plt.figure(figsize=(8, 5))\n",
    "plt.bar(accuracy_data.keys(), accuracy_data.values(), color=['blue', 'green'])\n",
    "plt.ylabel('Accuracy')\n",
    "plt.title('Training and Test Accuracy of the SVM Model')\n",
    "plt.ylim(0, 5)  # Set y-axis limit to range [0, 5]\n",
    "\n",
    "# Display the bar values on top of the bars\n",
    "for key, value in accuracy_data.items():\n",
    "    plt.text(key, value + 0.02, f'{value:.2f}', ha='center')\n",
    "\n",
    "plt.show()"
   ]
  },
  {
   "cell_type": "code",
   "execution_count": 79,
   "metadata": {},
   "outputs": [
    {
     "data": {
      "image/png": "[encoded data removed]",
      "text/plain": [
       "<Figure size 640x480 with 2 Axes>"
      ]
     },
     "metadata": {},
     "output_type": "display_data"
    },
    {
     "data": {
      "image/png": "[encoded data removed]",
      "text/plain": [
       "<Figure size 800x800 with 1 Axes>"
      ]
     },
     "metadata": {},
     "output_type": "display_data"
    }
   ],
   "source": [
    "from sklearn.metrics import confusion_matrix, roc_curve, auc\n",
    "\n",
    "# Function to plot confusion matrix\n",
    "def plot_confusion_matrix(cm, classes, title='Confusion Matrix', cmap=plt.cm.Blues):\n",
    "    plt.imshow(cm, interpolation='nearest', cmap=cmap)\n",
    "    plt.title(title)\n",
    "    plt.colorbar()\n",
    "    tick_marks = np.arange(len(classes))\n",
    "    plt.xticks(tick_marks, classes, rotation=45)\n",
    "    plt.yticks(tick_marks, classes)\n",
    "\n",
    "    plt.ylabel('True label')\n",
    "    plt.xlabel('Predicted label')\n",
    "    plt.show()\n",
    "\n",
    "# Function to plot ROC curve\n",
    "def plot_roc_curve(Y_test, Y_prob):\n",
    "    fpr, tpr, thresholds = roc_curve(Y_test, Y_prob)\n",
    "    roc_auc = auc(fpr, tpr)\n",
    "\n",
    "    plt.figure(figsize=(8, 8))\n",
    "    plt.plot(fpr, tpr, color='darkorange', lw=2, label='ROC curve (area = {:.2f})'.format(roc_auc))\n",
    "    plt.plot([0, 1], [0, 1], color='navy', lw=2, linestyle='--')\n",
    "    plt.xlabel('False Positive Rate')\n",
    "    plt.ylabel('True Positive Rate')\n",
    "    plt.title('Receiver Operating Characteristic (ROC) Curve')\n",
    "    plt.legend(loc='lower right')\n",
    "    plt.show()\n",
    "\n",
    "# Confusion Matrix\n",
    "conf_matrix = confusion_matrix(test_Y, X_test_prediction)\n",
    "plot_confusion_matrix(conf_matrix, classes=['Not Diabetic', 'Diabetic'])\n",
    "\n",
    "# ROC Curve\n",
    "Y_prob = classifier.decision_function(test_X)\n",
    "plot_roc_curve(test_Y, Y_prob)"
   ]
  },
  {
   "cell_type": "code",
   "execution_count": 80,
   "metadata": {},
   "outputs": [
    {
     "name": "stdout",
     "output_type": "stream",
     "text": [
      "Accuracy score of the training data:  0.8436482084690554\n",
      "Accuracy score of the test data:  0.6818181818181818\n"
     ]
    }
   ],
   "source": [
    "# You can adjust the value of k\n",
    "knn_classifier = KNeighborsClassifier(n_neighbors=3)\n",
    "\n",
    "# Training the KNN Classifier\n",
    "knn_classifier.fit(train_X, train_Y)\n",
    "\n",
    "# Accuracy score on the training data\n",
    "X_train_prediction = knn_classifier.predict(train_X)\n",
    "training_data_accuracy = accuracy_score(X_train_prediction, train_Y)\n",
    "print('Accuracy score of the training data: ', training_data_accuracy)\n",
    "\n",
    "# Accuracy score on the test data\n",
    "X_test_prediction = knn_classifier.predict(test_X)\n",
    "test_data_accuracy = accuracy_score(X_test_prediction, test_Y)\n",
    "print('Accuracy score of the test data: ', test_data_accuracy)"
   ]
  },
  {
   "cell_type": "code",
   "execution_count": 81,
   "metadata": {},
   "outputs": [
    {
     "data": {
      "image/png": "[encoded data removed]",
      "text/plain": [
       "<Figure size 800x500 with 1 Axes>"
      ]
     },
     "metadata": {},
     "output_type": "display_data"
    }
   ],
   "source": [
    "# Data for plotting\n",
    "accuracy_data = {\n",
    "    'Training Accuracy': training_data_accuracy,\n",
    "    'Test Accuracy': test_data_accuracy\n",
    "}\n",
    "\n",
    "# Plotting the bar graph\n",
    "plt.figure(figsize=(8, 5))\n",
    "plt.bar(accuracy_data.keys(), accuracy_data.values(), color=['blue', 'green'])\n",
    "plt.ylabel('Accuracy')\n",
    "plt.title('Training and Test Accuracy of the SVM Model')\n",
    "plt.ylim(0, 5)  # Set y-axis limit to range [0, 5]\n",
    "\n",
    "# Display the bar values on top of the bars\n",
    "for key, value in accuracy_data.items():\n",
    "    plt.text(key, value + 0.02, f'{value:.2f}', ha='center')\n",
    "\n",
    "plt.show()"
   ]
  },
  {
   "cell_type": "code",
   "execution_count": 82,
   "metadata": {},
   "outputs": [
    {
     "name": "stdout",
     "output_type": "stream",
     "text": [
      "Accuracy score of the training data:  0.8697068403908795\n",
      "Accuracy score of the test data:  0.7532467532467533\n"
     ]
    }
   ],
   "source": [
    "from sklearn.ensemble import GradientBoostingClassifier\n",
    "\n",
    "classifier = GradientBoostingClassifier(n_estimators=100, learning_rate=1.0, max_depth=1, random_state=2)\n",
    "\n",
    "# Training the Gradient Boosting Classifier\n",
    "classifier.fit(train_X, train_Y)\n",
    "\n",
    "# Accuracy score on the training data\n",
    "X_train_prediction = classifier.predict(train_X)\n",
    "training_data_accuracy = accuracy_score(X_train_prediction, train_Y)\n",
    "print('Accuracy score of the training data: ', training_data_accuracy)\n",
    "\n",
    "# Accuracy score on the test data\n",
    "X_test_prediction = classifier.predict(test_X)\n",
    "test_data_accuracy = accuracy_score(X_test_prediction, test_Y)\n",
    "print('Accuracy score of the test data: ', test_data_accuracy)"
   ]
  },
  {
   "cell_type": "code",
   "execution_count": 83,
   "metadata": {},
   "outputs": [
    {
     "data": {
      "image/png": "[encoded data removed]",
      "text/plain": [
       "<Figure size 800x500 with 1 Axes>"
      ]
     },
     "metadata": {},
     "output_type": "display_data"
    }
   ],
   "source": [
    "# Data for plotting\n",
    "accuracy_data = {\n",
    "    'Training Accuracy': training_data_accuracy,\n",
    "    'Test Accuracy': test_data_accuracy\n",
    "}\n",
    "\n",
    "# Plotting the bar graph\n",
    "plt.figure(figsize=(8, 5))\n",
    "plt.bar(accuracy_data.keys(), accuracy_data.values(), color=['blue', 'green'])\n",
    "plt.ylabel('Accuracy')\n",
    "plt.title('Training and Test Accuracy of the SVM Model')\n",
    "plt.ylim(0, 5)  # Set y-axis limit to range [0, 5]\n",
    "\n",
    "# Display the bar values on top of the bars\n",
    "for key, value in accuracy_data.items():\n",
    "    plt.text(key, value + 0.02, f'{value:.2f}', ha='center')\n",
    "\n",
    "plt.show()"
   ]
  }
 ],
 "metadata": {
  "kernelspec": {
   "display_name": "Python 3 (ipykernel)",
   "language": "python",
   "name": "python3"
  },
  "language_info": {
   "codemirror_mode": {
    "name": "ipython",
    "version": 3
   },
   "file_extension": ".py",
   "mimetype": "text/x-python",
   "name": "python",
   "nbconvert_exporter": "python",
   "pygments_lexer": "ipython3",
   "version": "3.11.1"
  }
 },
 "nbformat": 4,
 "nbformat_minor": 2
}
